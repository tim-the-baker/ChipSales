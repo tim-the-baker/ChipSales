{
 "cells": [
  {
   "attachments": {},
   "cell_type": "markdown",
   "metadata": {
    "collapsed": false,
    "pycharm": {
     "name": "#%% md\n"
    }
   },
   "source": [
    "# Transaction Data Exploration\n",
    "\n",
    "#### Steps\n",
    "1. Understand column definitions\n",
    "2. Check for and drop duplicates\n",
    "3. Refine columns and extract new ones\n",
    "4. Explore distributions of interesting columns\n"
   ]
  },
  {
   "cell_type": "code",
   "execution_count": 2,
   "metadata": {
    "collapsed": false,
    "pycharm": {
     "name": "#%%\n"
    }
   },
   "outputs": [],
   "source": [
    "# Import numpy and pandas\n",
    "import numpy as np\n",
    "import matplotlib.pyplot as plt\n",
    "import pandas as pd\n",
    "import re"
   ]
  },
  {
   "cell_type": "code",
   "execution_count": 3,
   "metadata": {},
   "outputs": [
    {
     "data": {
      "text/html": [
       "<div>\n",
       "<style scoped>\n",
       "    .dataframe tbody tr th:only-of-type {\n",
       "        vertical-align: middle;\n",
       "    }\n",
       "\n",
       "    .dataframe tbody tr th {\n",
       "        vertical-align: top;\n",
       "    }\n",
       "\n",
       "    .dataframe thead th {\n",
       "        text-align: right;\n",
       "    }\n",
       "</style>\n",
       "<table border=\"1\" class=\"dataframe\">\n",
       "  <thead>\n",
       "    <tr style=\"text-align: right;\">\n",
       "      <th></th>\n",
       "      <th>DATE</th>\n",
       "      <th>STORE_NBR</th>\n",
       "      <th>LYLTY_CARD_NBR</th>\n",
       "      <th>TXN_ID</th>\n",
       "      <th>PROD_NBR</th>\n",
       "      <th>PROD_NAME</th>\n",
       "      <th>PROD_QTY</th>\n",
       "      <th>TOT_SALES</th>\n",
       "    </tr>\n",
       "  </thead>\n",
       "  <tbody>\n",
       "    <tr>\n",
       "      <th>0</th>\n",
       "      <td>43390</td>\n",
       "      <td>1</td>\n",
       "      <td>1000</td>\n",
       "      <td>1</td>\n",
       "      <td>5</td>\n",
       "      <td>Natural Chip        Compny SeaSalt175g</td>\n",
       "      <td>2</td>\n",
       "      <td>6.0</td>\n",
       "    </tr>\n",
       "    <tr>\n",
       "      <th>1</th>\n",
       "      <td>43599</td>\n",
       "      <td>1</td>\n",
       "      <td>1307</td>\n",
       "      <td>348</td>\n",
       "      <td>66</td>\n",
       "      <td>CCs Nacho Cheese    175g</td>\n",
       "      <td>3</td>\n",
       "      <td>6.3</td>\n",
       "    </tr>\n",
       "    <tr>\n",
       "      <th>2</th>\n",
       "      <td>43605</td>\n",
       "      <td>1</td>\n",
       "      <td>1343</td>\n",
       "      <td>383</td>\n",
       "      <td>61</td>\n",
       "      <td>Smiths Crinkle Cut  Chips Chicken 170g</td>\n",
       "      <td>2</td>\n",
       "      <td>2.9</td>\n",
       "    </tr>\n",
       "    <tr>\n",
       "      <th>3</th>\n",
       "      <td>43329</td>\n",
       "      <td>2</td>\n",
       "      <td>2373</td>\n",
       "      <td>974</td>\n",
       "      <td>69</td>\n",
       "      <td>Smiths Chip Thinly  S/Cream&amp;Onion 175g</td>\n",
       "      <td>5</td>\n",
       "      <td>15.0</td>\n",
       "    </tr>\n",
       "    <tr>\n",
       "      <th>4</th>\n",
       "      <td>43330</td>\n",
       "      <td>2</td>\n",
       "      <td>2426</td>\n",
       "      <td>1038</td>\n",
       "      <td>108</td>\n",
       "      <td>Kettle Tortilla ChpsHny&amp;Jlpno Chili 150g</td>\n",
       "      <td>3</td>\n",
       "      <td>13.8</td>\n",
       "    </tr>\n",
       "  </tbody>\n",
       "</table>\n",
       "</div>"
      ],
      "text/plain": [
       "    DATE  STORE_NBR  LYLTY_CARD_NBR  TXN_ID  PROD_NBR  \\\n",
       "0  43390          1            1000       1         5   \n",
       "1  43599          1            1307     348        66   \n",
       "2  43605          1            1343     383        61   \n",
       "3  43329          2            2373     974        69   \n",
       "4  43330          2            2426    1038       108   \n",
       "\n",
       "                                  PROD_NAME  PROD_QTY  TOT_SALES  \n",
       "0    Natural Chip        Compny SeaSalt175g         2        6.0  \n",
       "1                  CCs Nacho Cheese    175g         3        6.3  \n",
       "2    Smiths Crinkle Cut  Chips Chicken 170g         2        2.9  \n",
       "3    Smiths Chip Thinly  S/Cream&Onion 175g         5       15.0  \n",
       "4  Kettle Tortilla ChpsHny&Jlpno Chili 150g         3       13.8  "
      ]
     },
     "execution_count": 3,
     "metadata": {},
     "output_type": "execute_result"
    }
   ],
   "source": [
    "# Read and preview data\n",
    "trans_data_file = rf'data\\QVI_transaction_data.xlsx'\n",
    "trans_data = pd.read_excel(trans_data_file)\n",
    "trans_data.head()"
   ]
  },
  {
   "cell_type": "code",
   "execution_count": 4,
   "metadata": {
    "collapsed": false,
    "pycharm": {
     "name": "#%%\n"
    }
   },
   "outputs": [
    {
     "data": {
      "text/plain": [
       "DATE              False\n",
       "STORE_NBR         False\n",
       "LYLTY_CARD_NBR    False\n",
       "TXN_ID            False\n",
       "PROD_NBR          False\n",
       "PROD_NAME         False\n",
       "PROD_QTY          False\n",
       "TOT_SALES         False\n",
       "dtype: bool"
      ]
     },
     "execution_count": 4,
     "metadata": {},
     "output_type": "execute_result"
    }
   ],
   "source": [
    "# Check for and view duplicates\n",
    "trans_data[trans_data.duplicated(keep=False)]\n",
    "\n",
    "# There are no duplicates, but if there was, the following line would drop them\n",
    "trans_data = trans_data.drop_duplicates()\n",
    "\n",
    "# Check for NaNs. In this case there are none.\n",
    "trans_data.isnull().any()"
   ]
  },
  {
   "cell_type": "code",
   "execution_count": null,
   "metadata": {},
   "outputs": [],
   "source": []
  },
  {
   "cell_type": "code",
   "execution_count": 5,
   "metadata": {
    "collapsed": false
   },
   "outputs": [
    {
     "name": "stdout",
     "output_type": "stream",
     "text": [
      "0      Natural Chip        Compny SeaSalt175g\n",
      "1                    CCs Nacho Cheese    175g\n",
      "2      Smiths Crinkle Cut  Chips Chicken 170g\n",
      "3      Smiths Chip Thinly  S/Cream&Onion 175g\n",
      "4    Kettle Tortilla ChpsHny&Jlpno Chili 150g\n",
      "Name: PROD_NAME, dtype: object\n",
      "\n",
      "Preview extraction:\n",
      "      0\n",
      "0  175\n",
      "1  175\n",
      "2  170\n",
      "3  175\n",
      "4  150\n",
      "\n",
      "Is any extraction null?\n",
      " [False]\n"
     ]
    }
   ],
   "source": [
    "# Looking at PROD_NAME, we can see that most products appear to have their weight listed in their name.\n",
    "# This might be useful information that we can extract\n",
    "print(trans_data['PROD_NAME'].head())\n",
    "\n",
    "# Extract the weight\n",
    "extr = trans_data['PROD_NAME'].str.extract(r'(\\d{1,4}g)', expand=False, flags=re.IGNORECASE)\n",
    "# Remove g from weight\n",
    "extr = extr.str.extract(r'(\\d{1,4})')\n",
    "print(\"\\nPreview extraction:\\n\", extr.head())\n",
    "\n",
    "# check to see if any row did not have a matching weight string\n",
    "print(\"\\nIs any extraction null?\\n\", extr.isnull().any().values)\n"
   ]
  },
  {
   "cell_type": "code",
   "execution_count": 6,
   "metadata": {},
   "outputs": [
    {
     "name": "stdout",
     "output_type": "stream",
     "text": [
      "\n",
      "Preview updated dataframe\n",
      "         DATE  STORE_NBR  LYLTY_CARD_NBR  TXN_ID  PROD_NBR  \\\n",
      "0 2018-10-17          1            1000       1         5   \n",
      "1 2019-05-14          1            1307     348        66   \n",
      "2 2019-05-20          1            1343     383        61   \n",
      "3 2018-08-17          2            2373     974        69   \n",
      "4 2018-08-18          2            2426    1038       108   \n",
      "\n",
      "                                  PROD_NAME  PROD_QTY  TOT_SALES  WEIGHT  \n",
      "0    Natural Chip        Compny SeaSalt175g         2        6.0   175.0  \n",
      "1                  CCs Nacho Cheese    175g         3        6.3   175.0  \n",
      "2    Smiths Crinkle Cut  Chips Chicken 170g         2        2.9   170.0  \n",
      "3    Smiths Chip Thinly  S/Cream&Onion 175g         5       15.0   175.0  \n",
      "4  Kettle Tortilla ChpsHny&Jlpno Chili 150g         3       13.8   150.0  \n"
     ]
    }
   ],
   "source": [
    "# add extracted weight to dataframe\n",
    "trans_data['WEIGHT'] = extr.astype(np.float32)\n",
    "\n",
    "# also update the 'DATE' column from Excel's numeric format to a proper date time format.\n",
    "trans_data['DATE'] = pd.to_datetime(trans_data['DATE'], unit='D', origin=pd.Timestamp('1899-12-30'))\n",
    "\n",
    "# Preview\n",
    "print(\"\\nPreview updated dataframe\\n\", trans_data.head())\n",
    "\n"
   ]
  },
  {
   "cell_type": "code",
   "execution_count": 14,
   "metadata": {},
   "outputs": [
    {
     "name": "stdout",
     "output_type": "stream",
     "text": [
      "            min    max  median        mean\n",
      "PROD_QTY    1.0  200.0     2.0    1.907308\n",
      "TOT_SALES   1.5  650.0     7.4    7.304205\n",
      "WEIGHT     70.0  380.0   170.0  182.427017\n"
     ]
    },
    {
     "data": {
      "image/png": "[encoded data removed]",
      "text/plain": [
       "<Figure size 432x288 with 4 Axes>"
      ]
     },
     "metadata": {
      "needs_background": "light"
     },
     "output_type": "display_data"
    }
   ],
   "source": [
    "# Looking at the data, there are a few interesting columns.\n",
    "\n",
    "interesting_cols = [\"PROD_QTY\", \"TOT_SALES\", \"WEIGHT\"]\n",
    "\n",
    "# first check min, max, median\n",
    "print(trans_data[interesting_cols].agg(func=['min', 'max', 'median', 'mean'], numeric_only=True).T)\n",
    "print(trans_data)\n",
    "\n",
    "# there is one outlier purchase. Drop is and then plot distributions\n",
    "mod_data = trans_data.drop(trans_data['PROD_QTY'].idxmax())\n",
    "mod_data = mod_data.drop(mod_data['PROD_QTY'].idxmax())\n",
    "mod_data.hist(column=interesting_cols)\n",
    "plt.show()"
   ]
  },
  {
   "cell_type": "code",
   "execution_count": 32,
   "metadata": {},
   "outputs": [
    {
     "name": "stdout",
     "output_type": "stream",
     "text": [
      "There are 72637 loyalty members in this data\n",
      "There are 272 stores in this data\n"
     ]
    },
    {
     "data": {
      "text/plain": [
       "Text(0.5, 1.0, 'Number of transactions per store')"
      ]
     },
     "execution_count": 32,
     "metadata": {},
     "output_type": "execute_result"
    },
    {
     "data": {
      "image/png": "[encoded data removed]",
      "text/plain": [
       "<Figure size 720x288 with 2 Axes>"
      ]
     },
     "metadata": {
      "needs_background": "light"
     },
     "output_type": "display_data"
    }
   ],
   "source": [
    "# Next we can look to see how many shoppers and stores there are\n",
    "print(f\"There are {trans_data['LYLTY_CARD_NBR'].value_counts().size} loyalty members in this data\")\n",
    "fig, axs = plt.subplots(nrows=1, ncols=2, figsize=(10, 4))\n",
    "trans_data['LYLTY_CARD_NBR'].value_counts().hist(ax=axs[0])\n",
    "axs[0].set_title(\"Number of transactions per loyalty member\")\n",
    "\n",
    "print(f\"There are {trans_data['STORE_NBR'].value_counts().size} stores in this data\")\n",
    "trans_data['STORE_NBR'].value_counts().hist(ax=axs[1])\n",
    "axs[1].set_title(\"Number of transactions per store\")"
   ]
  }
 ],
 "metadata": {
  "kernelspec": {
   "display_name": "PyCharm (ChipSales)",
   "language": "python",
   "name": "pycharm-e18cbe84"
  },
  "language_info": {
   "codemirror_mode": {
    "name": "ipython",
    "version": 3
   },
   "file_extension": ".py",
   "mimetype": "text/x-python",
   "name": "python",
   "nbconvert_exporter": "python",
   "pygments_lexer": "ipython3",
   "version": "3.8.2"
  }
 },
 "nbformat": 4,
 "nbformat_minor": 0
}
