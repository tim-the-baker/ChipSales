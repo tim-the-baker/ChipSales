{
 "cells": [
  {
   "attachments": {},
   "cell_type": "markdown",
   "metadata": {},
   "source": [
    "# Task One Solution"
   ]
  },
  {
   "cell_type": "code",
   "execution_count": 14,
   "metadata": {},
   "outputs": [],
   "source": [
    "# Imports\n",
    "import numpy as np\n",
    "import matplotlib.pyplot as plt\n",
    "import pandas as pd\n",
    "import re"
   ]
  },
  {
   "cell_type": "code",
   "execution_count": 15,
   "metadata": {},
   "outputs": [],
   "source": [
    "# Load data into pandas dataframes\n",
    "trans_data_file = rf'data\\QVI_transaction_data.xlsx'\n",
    "cust_data_file = rf'data\\QVI_purchase_behaviour.csv'\n",
    "\n",
    "trans_data = pd.read_excel(trans_data_file)\n",
    "cust_data = pd.read_csv(cust_data_file)"
   ]
  },
  {
   "cell_type": "code",
   "execution_count": 16,
   "metadata": {},
   "outputs": [
    {
     "name": "stdout",
     "output_type": "stream",
     "text": [
      "Transaction data preview:\n",
      "     DATE  STORE_NBR  LYLTY_CARD_NBR  TXN_ID  PROD_NBR  \\\n",
      "0  43390          1            1000       1         5   \n",
      "1  43599          1            1307     348        66   \n",
      "2  43605          1            1343     383        61   \n",
      "3  43329          2            2373     974        69   \n",
      "4  43330          2            2426    1038       108   \n",
      "\n",
      "                                  PROD_NAME  PROD_QTY  TOT_SALES  \n",
      "0    Natural Chip        Compny SeaSalt175g         2        6.0  \n",
      "1                  CCs Nacho Cheese    175g         3        6.3  \n",
      "2    Smiths Crinkle Cut  Chips Chicken 170g         2        2.9  \n",
      "3    Smiths Chip Thinly  S/Cream&Onion 175g         5       15.0  \n",
      "4  Kettle Tortilla ChpsHny&Jlpno Chili 150g         3       13.8   \n",
      "\n",
      "\n",
      "Customer data preview:\n",
      "    LYLTY_CARD_NBR               LIFESTAGE PREMIUM_CUSTOMER\n",
      "0            1000   YOUNG SINGLES/COUPLES          Premium\n",
      "1            1002   YOUNG SINGLES/COUPLES       Mainstream\n",
      "2            1003          YOUNG FAMILIES           Budget\n",
      "3            1004   OLDER SINGLES/COUPLES       Mainstream\n",
      "4            1005  MIDAGE SINGLES/COUPLES       Mainstream\n"
     ]
    }
   ],
   "source": [
    "# Preview data\n",
    "print('Transaction data preview:\\n', trans_data.head(), \"\\n\\n\")\n",
    "print(\"Customer data preview:\\n\", cust_data.head())"
   ]
  },
  {
   "cell_type": "code",
   "execution_count": 17,
   "metadata": {},
   "outputs": [
    {
     "name": "stdout",
     "output_type": "stream",
     "text": [
      "0   2018-10-17\n",
      "1   2019-05-14\n",
      "2   2019-05-20\n",
      "3   2018-08-17\n",
      "4   2018-08-18\n",
      "Name: DATE, dtype: datetime64[ns]\n"
     ]
    }
   ],
   "source": [
    "# it looks like the DATE column is in Excel's integer format\n",
    "# convert integer to date format (origin is specific to Excel (and possible other) date integer format)\n",
    "trans_data['DATE'] = pd.to_datetime(trans_data['DATE'], unit='D', origin=pd.Timestamp('1899-12-30'))\n",
    "print(trans_data['DATE'].head())"
   ]
  },
  {
   "cell_type": "code",
   "execution_count": 25,
   "metadata": {},
   "outputs": [
    {
     "name": "stdout",
     "output_type": "stream",
     "text": [
      "g           105\n",
      "Chips        21\n",
      "Smiths       16\n",
      "Crinkle      14\n",
      "Cut          14\n",
      "Kettle       13\n",
      "Salt         12\n",
      "Cheese       12\n",
      "Original     10\n",
      "Salsa         9\n",
      "Chip          9\n",
      "Doritos       9\n",
      "Pringles      8\n",
      "Corn          8\n",
      "RRD           8\n",
      "Chicken       7\n",
      "WW            7\n",
      "Sour          6\n",
      "Sea           6\n",
      "Chilli        6\n",
      "dtype: int64\n"
     ]
    }
   ],
   "source": [
    "# next check that the products are actually chips\n",
    "# first get unique prod names\n",
    "prod_names = trans_data[\"PROD_NAME\"].drop_duplicates()\n",
    "\n",
    "# convert strings into lists of words\n",
    "# expand=True makes it so words are split into seperate columns\n",
    "# expand=False makes it so words are grouped into a list that exists in one column\n",
    "prod_names = prod_names.str.split(expand=False)\n",
    "\n",
    "# next remove words that contain numbers and special characters\n",
    "prod_names = prod_names.apply(' '.join).str.replace('[^A-Za-z\\s]+', '')\n",
    "\n",
    "# convert into a long list of words (NxM dataframe into Dx1 data series)\n",
    "prod_names = prod_names.str.split(expand=True)\n",
    "\n",
    "# ravel() unravels the columns into a series\n",
    "# strangely \"ravel\" and \"unravel\" mean the same thing - Google it\n",
    "# this displays the 20 most frequently occuring words\n",
    "print(pd.value_counts(prod_names.values.ravel())[0:20])\n"
   ]
  },
  {
   "cell_type": "code",
   "execution_count": 29,
   "metadata": {},
   "outputs": [
    {
     "name": "stdout",
     "output_type": "stream",
     "text": [
      "0.06832152728481022\n"
     ]
    }
   ],
   "source": [
    "# the dataset accidentally has salsa items included! Remove these\n",
    "delete_idxs = trans_data['PROD_NAME'].str.lower().str.contains('salsa')\n",
    "filtered_trans_data = trans_data[~delete_idxs]"
   ]
  }
 ],
 "metadata": {
  "kernelspec": {
   "display_name": "py37",
   "language": "python",
   "name": "python3"
  },
  "language_info": {
   "codemirror_mode": {
    "name": "ipython",
    "version": 3
   },
   "file_extension": ".py",
   "mimetype": "text/x-python",
   "name": "python",
   "nbconvert_exporter": "python",
   "pygments_lexer": "ipython3",
   "version": "3.8.2"
  },
  "orig_nbformat": 4,
  "vscode": {
   "interpreter": {
    "hash": "c4c328b013c1c5862f73e3218417ad92a28e46095c874aa57888ed4c92d787e6"
   }
  }
 },
 "nbformat": 4,
 "nbformat_minor": 2
}
